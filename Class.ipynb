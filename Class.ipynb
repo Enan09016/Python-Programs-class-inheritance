{
 "cells": [
  {
   "cell_type": "code",
   "execution_count": 1,
   "id": "46276a6d",
   "metadata": {},
   "outputs": [
    {
     "name": "stdout",
     "output_type": "stream",
     "text": [
      "Created Jose\n",
      "Created Marie\n",
      "Created Chan\n",
      "Jose 200 300 400 4\n",
      "Marie 230 350 420 4\n",
      "Chan 250 300 320 4\n"
     ]
    }
   ],
   "source": [
    "class Character:\n",
    "    def __init__(self, name, hp, mp, attack, lvl):\n",
    "        self.name = name\n",
    "        self.hp = hp\n",
    "        self.mp = mp\n",
    "        self.attack = attack\n",
    "        self.lvl = lvl\n",
    "        print(\"Created \" + self.name)\n",
    "\n",
    "char1 = Character(\"Jose\", 200, 300, 400, 4)\n",
    "char2 = Character(\"Marie\", 230, 350, 420, 4)  \n",
    "char3 = Character(\"Chan\", 250, 300, 320, 4)  \n",
    "\n",
    "print(char1.name, char1.hp, char1.mp, char1.attack, char1.lvl)\n",
    "print(char2.name, char2.hp, char2.mp, char2.attack, char2.lvl)\n",
    "print(char3.name, char3.hp, char3.mp, char3.attack, char3.lvl)\n",
    "\n",
    "\n",
    "\n",
    "\n"
   ]
  },
  {
   "cell_type": "code",
   "execution_count": null,
   "id": "93dc7aae",
   "metadata": {},
   "outputs": [],
   "source": []
  }
 ],
 "metadata": {
  "kernelspec": {
   "display_name": "Python 3 (ipykernel)",
   "language": "python",
   "name": "python3"
  },
  "language_info": {
   "codemirror_mode": {
    "name": "ipython",
    "version": 3
   },
   "file_extension": ".py",
   "mimetype": "text/x-python",
   "name": "python",
   "nbconvert_exporter": "python",
   "pygments_lexer": "ipython3",
   "version": "3.9.12"
  }
 },
 "nbformat": 4,
 "nbformat_minor": 5
}
