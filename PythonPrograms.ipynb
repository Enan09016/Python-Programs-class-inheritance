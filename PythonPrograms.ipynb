{
 "cells": [
  {
   "cell_type": "code",
   "execution_count": 2,
   "id": "2845c434",
   "metadata": {},
   "outputs": [
    {
     "name": "stdout",
     "output_type": "stream",
     "text": [
      "7\n",
      "10\n"
     ]
    }
   ],
   "source": [
    "#Using lambda function to return highest value between two numbers#\n",
    "lambFunc = lambda x, y: x if x > y else y\n",
    "print(lambFunc(3,7))\n",
    "print(lambFunc(10, 8))"
   ]
  },
  {
   "cell_type": "code",
   "execution_count": 1,
   "id": "d90effc2",
   "metadata": {},
   "outputs": [
    {
     "name": "stdout",
     "output_type": "stream",
     "text": [
      "Select an operation to use: \n",
      "1 to add\n",
      "2 to subtract\n",
      "3 to miltiply\n",
      "4 to divide\n",
      "1\n",
      "Enter first number: 1232\n",
      "enter second number: 1231\n",
      "The sum of two numbers is: 2463\n"
     ]
    }
   ],
   "source": [
    "#Simple python calculator using if else statement#\n",
    "\n",
    "#Simple python calculator using if else statement#\n",
    "\n",
    "print(\"\"\"Select an operation to use: \n",
    "1 to add\n",
    "2 to subtract\n",
    "3 to miltiply\n",
    "4 to divide\"\"\")\n",
    "\n",
    "\n",
    "operation = input()\n",
    "\n",
    "if operation == \"1\":\n",
    "    num1 = input(\"Enter first number: \")\n",
    "    num2 = input(\"enter second number: \")\n",
    "    print(\"The sum of two numbers is: \" + str(int(num1) + int(num2)) )\n",
    "elif operation == \"2\":\n",
    "    num1 = input(\"Enter first number: \")\n",
    "    num2 = input(\"enter second number: \")\n",
    "    print(\"The difference of two numbers is: \" + str(int(num1) - int(num2)) )\n",
    "elif operation == \"3\":\n",
    "    num1 = input(\"Enter first number: \")\n",
    "    num2 = input(\"enter second number: \")\n",
    "    print(\"The product of two numbers is: \" + str(int(num1) * int(num2)) )\n",
    "elif operation == \"4\":\n",
    "    num1 = input(\"Enter first number: \")\n",
    "    num2 = input(\"Enter second number: \")\n",
    "    print(\"The result is: \" + str(int(num1) / int(num2)) )\n",
    "else:\n",
    "    print(\"Please enter a valid input\")"
   ]
  },
  {
   "cell_type": "code",
   "execution_count": null,
   "id": "bcb22e8b",
   "metadata": {},
   "outputs": [],
   "source": []
  },
  {
   "cell_type": "code",
   "execution_count": 2,
   "id": "5e90a05d",
   "metadata": {},
   "outputs": [
    {
     "name": "stdout",
     "output_type": "stream",
     "text": [
      "\n",
      "Choose a method of transaction\n",
      "1: Balance\n",
      "2: Withdraw\n",
      "3: Deposit\n",
      "4: Exit\n",
      "\n",
      "3\n",
      "Chosen Method is: 3\n",
      "Enter amout to deposit: 20000\n",
      "Method 3 is successful!\n",
      "Your new balance is: 30000.0\n"
     ]
    }
   ],
   "source": [
    "#ATM#\n",
    "balance = 10000\n",
    "print(\"\"\"\n",
    "Choose a method of transaction\n",
    "1: Balance\n",
    "2: Withdraw\n",
    "3: Deposit\n",
    "4: Exit\n",
    "\"\"\")\n",
    "Method = int(input())\n",
    "print(\"Chosen Method is: \" + str(Method) )\n",
    "\n",
    "if Method == 1:\n",
    "    print(\" \")\n",
    "    print(\"Your current balance is \" + str(balance))\n",
    "elif Method == 2:\n",
    "    withdraw = float(input(\"Enter amount to withdraw: \"))\n",
    "    if balance > withdraw:\n",
    "        withdraw = balance - withdraw\n",
    "        print(\"Method 2 is successful!\")\n",
    "        print(\"Your current balance is: \" + str(withdraw))\n",
    "    else:\n",
    "        print(\"You dont have enough balance.\")\n",
    "elif Method == 3:\n",
    "    deposit = float(input(\"Enter amout to deposit: \"))\n",
    "    newBal = balance + deposit\n",
    "    print(\"Method 3 is successful!\")\n",
    "    print(\"Your new balance is: \" + str(newBal))\n",
    "elif Method == 4:\n",
    "    print(\"Closing the program\")\n",
    "else:\n",
    "    print(\"Please enter a valid number of transaction.\")\n",
    "    \n",
    "    "
   ]
  },
  {
   "cell_type": "code",
   "execution_count": null,
   "id": "03f22692",
   "metadata": {},
   "outputs": [],
   "source": []
  }
 ],
 "metadata": {
  "kernelspec": {
   "display_name": "Python 3 (ipykernel)",
   "language": "python",
   "name": "python3"
  },
  "language_info": {
   "codemirror_mode": {
    "name": "ipython",
    "version": 3
   },
   "file_extension": ".py",
   "mimetype": "text/x-python",
   "name": "python",
   "nbconvert_exporter": "python",
   "pygments_lexer": "ipython3",
   "version": "3.10.6"
  },
  "vscode": {
   "interpreter": {
    "hash": "785c9697678ef6e0ec88d4ce18cc0eedcf0b3d132659581616c329b852eb037e"
   }
  }
 },
 "nbformat": 4,
 "nbformat_minor": 5
}
