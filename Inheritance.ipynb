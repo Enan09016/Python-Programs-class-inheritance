{
 "cells": [
  {
   "cell_type": "code",
   "execution_count": 1,
   "metadata": {},
   "outputs": [
    {
     "name": "stdout",
     "output_type": "stream",
     "text": [
      "student is logging in...\n",
      "insructor is logging in...\n"
     ]
    }
   ],
   "source": [
    "#superclass / parent class\n",
    "class user:\n",
    "    def __init__(self, name, email):\n",
    "        self.name = name\n",
    "        self.email = email\n",
    "\n",
    "    def log_in(self):\n",
    "        print(f'{self.name} is logging in...')\n",
    "\n",
    "    def log_out(self):\n",
    "        print(f'{self.name} is logging out...')\n",
    "\n",
    "#subclass / child class\n",
    "class student(user):\n",
    "    def __init__(self, name, email, course):\n",
    "        super().__init__(name, email)\n",
    "        self.course = course\n",
    "    \n",
    "    def change_course(self):\n",
    "        print(f'{self.name} is changing course... ')\n",
    "\n",
    "#subclass/child class\n",
    "class instructor(user):\n",
    "    def __init__(self, name, email):\n",
    "        super().__init__(name, email)\n",
    "\n",
    "student = student('student', 'student@email.com', 'IT')\n",
    "student.log_in()\n",
    "instructor = instructor('insructor', 'instructor@email.com')\n",
    "instructor.log_in()\n"
   ]
  },
  {
   "cell_type": "code",
   "execution_count": 2,
   "metadata": {},
   "outputs": [
    {
     "name": "stdout",
     "output_type": "stream",
     "text": [
      "This is a parent class.\n",
      "This is a child class\n"
     ]
    }
   ],
   "source": [
    "#Single Inheritance\n",
    "class Parent:\n",
    "    def func1(self):\n",
    "        print(\"This is a parent class.\")\n",
    "class Child(Parent):\n",
    "    def func2(self):\n",
    "        print(\"This is a child class\")\n",
    "\n",
    "object = Child()\n",
    "object.func1()\n",
    "object.func2()"
   ]
  },
  {
   "cell_type": "code",
   "execution_count": 3,
   "metadata": {},
   "outputs": [
    {
     "name": "stdout",
     "output_type": "stream",
     "text": [
      "My Mother is:  Marie\n",
      "My Father is:  Jose\n"
     ]
    }
   ],
   "source": [
    "#Multiple Inheritance\n",
    "class Mother:\n",
    "    MotherName = \"\"\n",
    "    def mother(self):\n",
    "        print(self.MotherName)\n",
    "\n",
    "class Father: \n",
    "    FatherName = \"\"\n",
    "    def father(self):\n",
    "        print(self.FatherName)\n",
    "\n",
    "#derived class\n",
    "class Son(Mother, Father):\n",
    "    def parents(self):\n",
    "        print(\"My Mother is: \", self.MotherName)\n",
    "        print(\"My Father is: \", self.FatherName)\n",
    "\n",
    "#Drivers Code\n",
    "son = Son()\n",
    "son.MotherName = \"Marie\"\n",
    "son.FatherName = \"Jose\"\n",
    "son.parents()\n"
   ]
  },
  {
   "cell_type": "code",
   "execution_count": 6,
   "metadata": {},
   "outputs": [
    {
     "name": "stdout",
     "output_type": "stream",
     "text": [
      "ASAP Sebbie\n",
      "ASAP Rocky\n",
      "Kanye West\n",
      "Portishead\n"
     ]
    }
   ],
   "source": [
    "#Multiple Inheritance using super()\n",
    "class Portishead:\n",
    "    def __init__(self):\n",
    "        print( \"Portishead\" )\n",
    "\n",
    "class KanyeWest(Portishead) :\n",
    "    def __init__(self):\n",
    "        print(\"Kanye West\")\n",
    "        super().__init__()\n",
    "\n",
    "class ASAPRocky(Portishead) :\n",
    "    def __init__(self):\n",
    "        print( \"ASAP Rocky\" )\n",
    "        super().__init__()\n",
    "\n",
    "class ASAPRhen(ASAPRocky, KanyeWest) :\n",
    "    def __init__(self):\n",
    "        print('ASAP Sebbie')\n",
    "        super().__init__()\n",
    "\n",
    "asap_rhen = ASAPRhen()\n"
   ]
  },
  {
   "cell_type": "code",
   "execution_count": 13,
   "metadata": {},
   "outputs": [
    {
     "name": "stdout",
     "output_type": "stream",
     "text": [
      "This is in school\n",
      "This is in Student 1\n",
      "This is in Student 2\n"
     ]
    }
   ],
   "source": [
    "#Hybrid Inheritance\n",
    "\n",
    "class School:\n",
    "    def func1(self):\n",
    "        print(\"This is in school\")\n",
    "\n",
    "class Stud1(School):\n",
    "    def func2(self):\n",
    "        print(\"This is in Student 1\")\n",
    "\n",
    "class Stud2(School):\n",
    "    def func3(self):\n",
    "        print(\"This is in Student 2\")\n",
    "\n",
    "class Stud3(Stud1, Stud2):\n",
    "    def func4(self):\n",
    "        print(\"This is in Student 3\")\n",
    "\n",
    "object = Stud3()\n",
    "object.func1()\n",
    "object.func2()\n",
    "object.func3()\n"
   ]
  }
 ],
 "metadata": {
  "kernelspec": {
   "display_name": "Python 3.10.6 64-bit",
   "language": "python",
   "name": "python3"
  },
  "language_info": {
   "codemirror_mode": {
    "name": "ipython",
    "version": 3
   },
   "file_extension": ".py",
   "mimetype": "text/x-python",
   "name": "python",
   "nbconvert_exporter": "python",
   "pygments_lexer": "ipython3",
   "version": "3.10.6"
  },
  "orig_nbformat": 4,
  "vscode": {
   "interpreter": {
    "hash": "785c9697678ef6e0ec88d4ce18cc0eedcf0b3d132659581616c329b852eb037e"
   }
  }
 },
 "nbformat": 4,
 "nbformat_minor": 2
}
